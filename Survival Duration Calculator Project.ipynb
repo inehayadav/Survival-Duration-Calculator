{
 "cells": [
  {
   "cell_type": "code",
   "execution_count": 1,
   "id": "491e9cd1",
   "metadata": {},
   "outputs": [
    {
     "name": "stdout",
     "output_type": "stream",
     "text": [
      "Enter the person's age: 24\n",
      "Enter the time units (e.g., years, months, weeks, days, hours, minutes, seconds): years\n",
      "Duration of life in various units for 24 years:\n",
      "years: 34560\n"
     ]
    }
   ],
   "source": [
    "import datetime\n",
    "\n",
    "def calculate_duration(age, units):\n",
    "    # Convert age to a datetime object\n",
    "    birth_date = datetime.datetime.now() - datetime.timedelta(days=365 * age)\n",
    "\n",
    "    # Define the time units\n",
    "    time_units = {\n",
    "        \"years\": 365,\n",
    "        \"months\": 30.44,  # An average month duration\n",
    "        \"weeks\": 7,\n",
    "        \"days\": 1,\n",
    "        \"hours\": 1/24,\n",
    "        \"minutes\": 1/60,\n",
    "        \"seconds\": 1/3600,\n",
    "    }\n",
    "\n",
    "    # Calculate duration in selected units\n",
    "    duration = {}\n",
    "    for unit in units:\n",
    "        if unit in time_units:\n",
    "            duration[unit] = int((datetime.datetime.now() - birth_date).total_seconds() / (time_units[unit] * 60))\n",
    "\n",
    "    return duration\n",
    "\n",
    "def main():\n",
    "    age = int(input(\"Enter the person's age: \"))\n",
    "    units = input(\"Enter the time units (e.g., years, months, weeks, days, hours, minutes, seconds): \").split()\n",
    "    duration = calculate_duration(age, units)\n",
    "\n",
    "    print(f\"Duration of life in various units for {age} years:\")\n",
    "    for unit, value in duration.items():\n",
    "        print(f\"{unit}: {value}\")\n",
    "\n",
    "if __name__ == \"__main__\":\n",
    "    main()"
   ]
  },
  {
   "cell_type": "code",
   "execution_count": null,
   "id": "4f7726c2",
   "metadata": {},
   "outputs": [],
   "source": []
  },
  {
   "cell_type": "code",
   "execution_count": null,
   "id": "f0047b49",
   "metadata": {},
   "outputs": [],
   "source": []
  },
  {
   "cell_type": "code",
   "execution_count": null,
   "id": "0cbcd613",
   "metadata": {},
   "outputs": [],
   "source": []
  },
  {
   "cell_type": "code",
   "execution_count": null,
   "id": "092a1eab",
   "metadata": {},
   "outputs": [],
   "source": []
  },
  {
   "cell_type": "code",
   "execution_count": null,
   "id": "6f71325b",
   "metadata": {},
   "outputs": [],
   "source": []
  },
  {
   "cell_type": "code",
   "execution_count": null,
   "id": "da3e1646",
   "metadata": {},
   "outputs": [],
   "source": []
  },
  {
   "cell_type": "code",
   "execution_count": null,
   "id": "6babf151",
   "metadata": {},
   "outputs": [],
   "source": []
  }
 ],
 "metadata": {
  "kernelspec": {
   "display_name": "Python 3 (ipykernel)",
   "language": "python",
   "name": "python3"
  },
  "language_info": {
   "codemirror_mode": {
    "name": "ipython",
    "version": 3
   },
   "file_extension": ".py",
   "mimetype": "text/x-python",
   "name": "python",
   "nbconvert_exporter": "python",
   "pygments_lexer": "ipython3",
   "version": "3.11.4"
  }
 },
 "nbformat": 4,
 "nbformat_minor": 5
}
